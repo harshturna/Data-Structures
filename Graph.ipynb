{
 "cells":[
  {
   "cell_type":"code",
   "source":[
    "class Graph: \n",
    "    def __init__(self):\n",
    "        \"\"\"Graph construction\"\"\"\n",
    "        self.adj_list = {}\n",
    "\n",
    "    def print_graph(self):\n",
             "\"\"Method for printing the Graph's nodes and edges\"\"\"\n",
    "        for vertex in self.adj_list:\n",
    "            print(vertex, ':', self.adj_list[vertex])\n",
    "\n",
    "    def add_vertex(self, vertex):\n",
    "        \"\"\"Method for adding a vertex in a graph\"\"\"\n",
    "        if vertex not in self.adj_list.keys():\n",
    "            self.adj_list[vertex] = []\n",
    "            return True\n",
    "        return False\n",
    "    \n",
    "    def add_edge(self, v1, v2):\n",
    "        \"\"\"Method for adding an edge in a graph\"\"\"\n",
    "        if v1 in self.adj_list.keys() and v2 in self.adj_list.keys():\n",
    "            self.adj_list[v1].append(v2)\n",
    "            self.adj_list[v2].append(v1)\n",
    "            return True\n",
    "        return False\n",
    "    \n",
    "    def remove_edge(self, v1, v2):\n",
    "        \"\"\"Method to remove an edge from  a graph\"\"\"\n",
    "        if v1 in self.adj_list.keys() and v2 in self.adj_list.keys():\n",
    "            try:\n",
    "                self.adj_list[v1].remove(v2)\n",
    "                self.adj_list[v2].remove(v1)\n",
    "            except ValueError:\n",
    "                pass\n",
    "            return True\n",
    "        return False\n",
    "    \n",
    "    def remove_vertex(self, vertex):\n",
    "        \"\"\"Method for removing a vertex from a graph\"\"\"\n",
    "        if vertex in self.adj_list.keys():\n",
    "            for other_vertix in self.adj_list[vertex]:\n",
    "                self.adj_list[other_vertix].remove(vertex)\n",
    "            del self.adj_list[vertex]\n",
    "            return True\n",
    "        return False"
   ],
   "execution_count":12,
   "outputs":[
    
   ],
   "metadata":{
    "datalore":{
     "node_id":"bDmw5Mex2pBh2Hcyn1mbGV",
     "type":"CODE",
     "hide_input_from_viewers":false,
     "hide_output_from_viewers":false
    }
   }
  }
 ],
 "metadata":{
  "kernelspec":{
   "display_name":"Python",
   "language":"python",
   "name":"python"
  },
  "datalore":{
   "version":1,
   "computation_mode":"JUPYTER",
   "package_manager":"pip",
   "base_environment":"default",
   "packages":[
    
   ]
  }
 },
 "nbformat":4,
 "nbformat_minor":4
}
