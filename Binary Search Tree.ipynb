{
 "cells":[
  {
   "cell_type":"code",
   "source":[
    "class Node:\n",
    "    def __init__(self, value):\n",
    "        self.value = value\n",
    "        self.left = None\n",
    "        self.right = None"
   ],
   "execution_count":4,
   "outputs":[
    
   ],
   "metadata":{
    "datalore":{
     "node_id":"76EfqMKK6UhnuYZwrYco5K",
     "type":"CODE",
     "hide_input_from_viewers":false,
     "hide_output_from_viewers":false
    }
   }
  },
  {
   "cell_type":"code",
   "source":[
    "class BinarySearchTree:\n",
    "    \n",
    "    def __init__(self):\n",
    "        \"\"\"Binary Search Tree constructor\"\"\"\n",
    "        self.root = None\n",
    "\n",
    "    def insert(self, value):\n",
    "        \"\"\"Binary search insertion\"\"\"\n",
    "        new_node = Node(value)\n",
    "        \n",
    "        if self.root is None:\n",
    "            self.root = new_node\n",
    "            return True\n",
    "        \n",
    "        temp = self.root\n",
    "        while True:\n",
    "            if new_node.value == temp:\n",
    "                return False\n",
    "            \n",
    "            if new_node.value < temp.value:\n",
    "                if temp.left is None:\n",
    "                    temp.left = new_node\n",
    "                    return True\n",
    "                temp = temp.left\n",
    "            else: \n",
    "                if temp.right is None:\n",
    "                    temp.right = new_node\n",
    "                    return True\n",
    "                temp = temp.right\n",
    "\n",
    "    def contains(self, value):\n",
    "        \"\"\"Method to check if a node is in a BST\"\"\"\n",
    "        temp = self.root\n",
    "        while temp is not None: \n",
    "            if value < temp.value:\n",
    "                temp = temp.left\n",
    "            elif value > temp.value:\n",
    "                temp = temp.right\n",
    "            else: \n",
    "                return True\n",
    "        return False\n",
    "\n",
    "\n",
    "    \n",
    "        # ANOTHER IMPLEMENTATION OF CONTAINS METHOD\n",
    "\n",
    "        # if self.root is None:\n",
    "        #     return False\n",
    "\n",
    "        # if self.root == value:\n",
    "        #     return True\n",
    "        \n",
    "        # temp = self.root\n",
    "\n",
    "        # while True:\n",
    "        #     if value > temp.value:\n",
    "        #         if temp.right is None:\n",
    "        #             return False\n",
    "        #         temp = temp.right\n",
    "        #         if value == temp.value:\n",
    "        #             return True\n",
    "            \n",
    "        #     if value < temp.value:\n",
    "        #         if temp.left is None:\n",
    "        #             return False\n",
    "                \n",
    "        #         temp = temp.left\n",
    "        #         if value == temp.value:\n",
    "        #             return True\n",
    "\n",
    "\n",
    "    def minimum_value(self, current_node):\n",
    "        \"\"\"Method for finding minimum value in a BST\"\"\"\n",
    "        while current_node.left is not None:\n",
    "            current_node = current_node.left\n",
    "        return current_node"
   ],
   "execution_count":77,
   "outputs":[
    
   ],
   "metadata":{
    "datalore":{
     "node_id":"F80HKUFObnaIftZwlYY5q4",
     "type":"CODE",
     "hide_input_from_viewers":false,
     "hide_output_from_viewers":false
    }
   }
  }
 ],
 "metadata":{
  "kernelspec":{
   "display_name":"Python",
   "language":"python",
   "name":"python"
  },
  "datalore":{
   "version":1,
   "computation_mode":"JUPYTER",
   "package_manager":"pip",
   "base_environment":"default",
   "packages":[
    
   ]
  }
 },
 "nbformat":4,
 "nbformat_minor":4
}
