{
 "cells":[
  {
   "cell_type":"code",
   "source":[
    "# Linked List - Under the Hood. \n",
    "# This is a raw representation of a linked list, in reality linked list is not constructed with dictionaries.\n",
    "\n",
    "head = {\n",
    "    'value': 10, \n",
    "    'next': {\n",
    "        'value': 5, \n",
    "        'next': {\n",
    "            'value': 20, \n",
    "            'next': {\n",
    "                'value': 10, \n",
    "                'next': None\n",
    "            }\n",
    "        }\n",
    "    }\n",
    "}"
   ],
   "execution_count":12,
   "outputs":[
    
   ],
   "metadata":{
    "datalore":{
     "node_id":"z7xdc4Fu6FTU9baVB5uStk",
     "type":"CODE",
     "hide_input_from_viewers":true,
     "hide_output_from_viewers":true
    }
   }
  },
  {
   "cell_type":"code",
   "source":[
    "# Linked List Constructor\n",
    "\n",
    "class Node:\n",
    "    \"\"\" Node class will be used to construct nodes for a LinkedList \n",
    "    \"\"\"\n",
    "\n",
    "    def __init__(self, value):\n",
    "        \"\"\"Each Node has a value and a next pointer\"\"\"\n",
    "        self.value = value\n",
    "        self.next = None\n",
    "\n",
    "class LinkedList:\n",
    "\n",
    "    def __init__(self, value):\n",
    "        new_node = Node(value)\n",
    "        self.head = new_node\n",
    "        self.tail = new_node\n",
    "        self.length = 1"
   ],
   "execution_count":14,
   "outputs":[
    
   ],
   "metadata":{
    "datalore":{
     "node_id":"lzwxuQzMDDIqAZYAFawNC8",
     "type":"CODE",
     "hide_input_from_viewers":true,
     "hide_output_from_viewers":true
    }
   }
  },
  {
   "cell_type":"code",
   "source":[
    "\"\"\"\n",
    "Example of creating an instance of LinkedList and printing its value - \n",
    "\n",
    "my_linked_list = LinkedList(4)\n",
    "print(my_linked_list.head.value)\n",
    "\n",
    "\"\"\""
   ],
   "execution_count":18,
   "outputs":[
    
   ],
   "metadata":{
    "datalore":{
     "node_id":"jLiEeoXafx8r7ObpWWlRPW",
     "type":"CODE",
     "hide_input_from_viewers":true,
     "hide_output_from_viewers":true
    }
   }
  },
  {
   "cell_type":"code",
   "source":[
    "# Creating a helper print_list method for the linked list - to print out all the values in a linked list\n",
    "\n",
    "class LinkedList:\n",
    "\n",
    "    def __init__(self, value):\n",
    "        new_node = Node(value)\n",
    "        self.head = new_node\n",
    "        self.tail = new_node\n",
    "        self.length = 1\n",
    "\n",
    "    def print_list(self):\n",
    "        foo = self.head\n",
    "        while foo is not None:\n",
    "            print(foo.value)\n",
    "            foo = foo.next"
   ],
   "execution_count":2,
   "outputs":[
    
   ],
   "metadata":{
    "datalore":{
     "node_id":"giLkEBKYesYpxYaCUvi56o",
     "type":"CODE",
     "hide_input_from_viewers":true,
     "hide_output_from_viewers":true
    }
   }
  },
  {
   "cell_type":"code",
   "source":[
    "# Creating an append method for the linked list\n",
    "\n",
    "class LinkedList:\n",
    "\n",
    "    def __init__(self, value):\n",
    "        new_node = Node(value)\n",
    "        self.head = new_node\n",
    "        self.tail = new_node\n",
    "        self.length = 1\n",
    "\n",
    "    def append(self, value):\n",
    "        new_node = Node(value)\n",
    "        if self.head is None:\n",
    "            self.head = new_node\n",
    "            self.tail = new_node\n",
    "        else: \n",
    "            self.tail.next = new_node\n",
    "            self.tail = new_node\n",
    "        self.length += 1\n",
    "        return True"
   ],
   "execution_count":null,
   "outputs":[
    
   ],
   "metadata":{
    "datalore":{
     "node_id":"2BrdXwDOCRZmYBg2yHSBeg",
     "type":"CODE",
     "hide_input_from_viewers":true,
     "hide_output_from_viewers":true
    }
   }
  }
 ],
 "metadata":{
  "kernelspec":{
   "display_name":"Python",
   "language":"python",
   "name":"python"
  },
  "datalore":{
   "version":1,
   "computation_mode":"JUPYTER",
   "package_manager":"pip",
   "base_environment":"default",
   "packages":[
    
   ]
  }
 },
 "nbformat":4,
 "nbformat_minor":4
}