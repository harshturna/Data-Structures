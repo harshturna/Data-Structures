{
 "cells":[
  {
   "cell_type":"code",
   "source":[
    "class Node: \n",
    "    def __init__(self, value):\n",
    "        self.value = value\n",
    "        self.next = None"
   ],
   "execution_count":3,
   "outputs":[
    
   ],
   "metadata":{
    "datalore":{
     "node_id":"buHMROQaY351oTkmDYAZnj",
     "type":"CODE",
     "hide_input_from_viewers":false,
     "hide_output_from_viewers":false
    }
   }
  },
  {
   "cell_type":"markdown",
   "source":[
    "Stack"
   ],
   "attachments":{
    
   },
   "metadata":{
    "datalore":{
     "node_id":"OPI4pv0hn4qQzf1L4qUgxn",
     "type":"MD",
     "hide_input_from_viewers":false,
     "hide_output_from_viewers":false
    }
   }
  },
  {
   "cell_type":"code",
   "source":[
    "class Stack: \n",
    "    \"\"\"\n",
    "    Time Complexities: \n",
    "        pop -> o(1)\n",
    "        push -> o(1)\n",
    "    \"\"\"\n",
    "    def __init__(self, value):\n",
    "        \"\"\"Stack constructor\"\"\"\n",
    "        new_node = Node(value)\n",
    "        self.top = new_node\n",
    "        self.height = 1\n",
    "\n",
    "    def print_list(self):\n",
    "        \"\"\"Method for printing values in stack nodes\"\"\"\n",
    "        curr = self.top\n",
    "        while curr is not None: \n",
    "            print(curr.value)\n",
    "            curr = curr.next\n",
    "\n",
    "    def push(self, value):\n",
    "        \"\"\"Method for pushing a node to stack\"\"\"\n",
    "        new_node = Node(value)\n",
    "        if self.height == 0:\n",
    "            self.top = new_node\n",
    "        else:\n",
    "            new_node.next = self.top\n",
    "            self.top = new_node\n",
    "        self.height +=1\n",
    "\n",
    "    def pop(self):\n",
    "        \"\"\"Method for poping a node from stack\"\"\"\n",
    "        if self.height == 0:\n",
    "            return None\n",
    "\n",
    "        else:\n",
    "            curr = self.top\n",
    "            self.top = self.top.next\n",
    "            curr.next = None\n",
    "            self.height -=1\n",
    "            return curr"
   ],
   "execution_count":23,
   "outputs":[
    
   ],
   "metadata":{
    "datalore":{
     "node_id":"pzaCda2h8snJrHPebkWxYk",
     "type":"CODE",
     "hide_input_from_viewers":false,
     "hide_output_from_viewers":false
    }
   }
  },
  {
   "cell_type":"markdown",
   "source":[
    "Queue"
   ],
   "attachments":{
    
   },
   "metadata":{
    "datalore":{
     "node_id":"Lnq7Uu5fQCCsaadCgE5UfE",
     "type":"MD",
     "hide_input_from_viewers":false,
     "hide_output_from_viewers":false
    }
   }
  },
  {
   "cell_type":"code",
   "source":[
    "class Queue: \n",
    "    \"\"\"\n",
    "    Time Complexities: \n",
    "        Enqueue -> o(1)\n",
    "        Dequeue -> o(1)\n",
    "    \"\"\"\n",
    "    \n",
    "    def __init__(self, value):\n",
    "        \"\"\"Queue Construction\"\"\"\n",
    "        new_node = Node(value)\n",
    "        self.first = new_node\n",
    "        self.last = new_node\n",
    "        self.height = 1\n",
    "\n",
    "    def print_list(self):\n",
    "        \"\"\"Method for printing nodes in a queue\"\"\"\n",
    "        curr = self.first\n",
    "        while curr is not None: \n",
    "            print(curr.value)\n",
    "            curr = curr.next\n",
    "\n",
    "    def enqueue(self, value):\n",
    "        \"\"\"Method for insterting a node in a queue\"\"\"\n",
    "        new_node = Node(value)\n",
    "\n",
    "        if self.height == 0:\n",
    "            self.first = new_node\n",
    "            self.last = new_node\n",
    "\n",
    "        else: \n",
    "            self.last.next = new_node\n",
    "            self.last = new_node\n",
    "\n",
    "        self.height +=1\n",
    "\n",
    "    def dequeue(self):\n",
    "        \"\"\"Method for poping off a node from a queue\"\"\"\n",
    "        curr = self.first\n",
    "        \n",
    "        if self.height == 0:\n",
    "            return None\n",
    "        \n",
    "        elif self.height == 1:\n",
    "            self.first = None\n",
    "            self.last = None\n",
    "        \n",
    "        else:\n",
    "            self.first = self.first.next\n",
    "            curr.next = None\n",
    "        \n",
    "        self.height -=1\n",
    "        return curr"
   ],
   "execution_count":21,
   "outputs":[
    
   ],
   "metadata":{
    "datalore":{
     "node_id":"4bGxZyVb1dio91VlpkZu0o",
     "type":"CODE",
     "hide_input_from_viewers":false,
     "hide_output_from_viewers":false
    }
   }
  }
 ],
 "metadata":{
  "kernelspec":{
   "display_name":"Python",
   "language":"python",
   "name":"python"
  },
  "datalore":{
   "version":1,
   "computation_mode":"JUPYTER",
   "package_manager":"pip",
   "base_environment":"default",
   "packages":[
    
   ]
  }
 },
 "nbformat":4,
 "nbformat_minor":4
}